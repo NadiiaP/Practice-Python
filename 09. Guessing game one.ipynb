{
 "cells": [
  {
   "cell_type": "markdown",
   "metadata": {},
   "source": [
    "Generate a random number between 1 and 9 (including 1 and 9). Ask the user to guess the number, then tell them whether they guessed too low, too high, or exactly right."
   ]
  },
  {
   "cell_type": "code",
   "execution_count": 10,
   "metadata": {},
   "outputs": [
    {
     "name": "stdout",
     "output_type": "stream",
     "text": [
      "Guess the number:5\n",
      "Too high\n",
      "Guess the number:2\n",
      "Too low\n",
      "Guess the number:4\n",
      "Too high\n",
      "Guess the number:3\n",
      "Exactly right! You took only 4 tries!\n"
     ]
    }
   ],
   "source": [
    "import random\n",
    "\n",
    "num = random.randint(1,9)\n",
    "i=0\n",
    "while True:\n",
    "    n = int(input(\"Guess the number:\"))\n",
    "    if n in range(1,10):\n",
    "        i+=1\n",
    "        if (n>num):\n",
    "            print(\"Too high\")\n",
    "        if (n<num):\n",
    "            print (\"Too low\")\n",
    "        if (n==num):\n",
    "            print (\"Exactly right! You took only \" + str(i) + \" tries!\")\n",
    "            break\n",
    "    else:\n",
    "        print(\"Enter number between 1 and 9\")"
   ]
  },
  {
   "cell_type": "code",
   "execution_count": null,
   "metadata": {},
   "outputs": [],
   "source": []
  }
 ],
 "metadata": {
  "kernelspec": {
   "display_name": "Python 3",
   "language": "python",
   "name": "python3"
  },
  "language_info": {
   "codemirror_mode": {
    "name": "ipython",
    "version": 3
   },
   "file_extension": ".py",
   "mimetype": "text/x-python",
   "name": "python",
   "nbconvert_exporter": "python",
   "pygments_lexer": "ipython3",
   "version": "3.7.2"
  }
 },
 "nbformat": 4,
 "nbformat_minor": 2
}
