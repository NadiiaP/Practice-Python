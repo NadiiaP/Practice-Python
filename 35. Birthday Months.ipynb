{
 "cells": [
  {
   "cell_type": "markdown",
   "metadata": {},
   "source": [
    "In this exercise, load that JSON file from disk, extract the months of all the birthdays, and count how many scientists have a birthday in each month.\n",
    "\n",
    "Your program should output something like:\n",
    "\n",
    "{\n",
    "\"May\": 3,\n",
    "\"November\": 2,\n",
    "\"December\": 1\n",
    "}"
   ]
  },
  {
   "cell_type": "code",
   "execution_count": 1,
   "metadata": {},
   "outputs": [],
   "source": [
    "import json\n",
    "from collections import Counter\n",
    "\n",
    "def counter(file):\n",
    "    with open(file, \"r\") as f:\n",
    "        birthdays = json.load(f)\n",
    "    l = list(birthdays.values())\n",
    "    m = [\"\".join(list(i)[:2]) for i in l]\n",
    "    d = {\"01\": \"January\", \"02\": \"February\", \"03\": \"March\", \"04\": \"April\", \"05\": \"May\", \"06\": \"June\", \n",
    "     \"07\": \"July\", \"08\": \"August\", \"09\": \"September\", \"10\": \"October\", \"11\": \"November\", \"12\": \"December\"}\n",
    "    months = [d[j] for j in m]\n",
    "    c = Counter(months)\n",
    "    print(c)\n",
    "    month = input(\"Enter month: \")\n",
    "    if month not in months:\n",
    "        print(\"There are 0 people born in {}\".format(month))\n",
    "    else:\n",
    "        print (\"There are {} people born in {}\".format(c[month], month))\n",
    "    return c"
   ]
  },
  {
   "cell_type": "code",
   "execution_count": 2,
   "metadata": {},
   "outputs": [
    {
     "name": "stdout",
     "output_type": "stream",
     "text": [
      "Counter({'January': 2, 'March': 1, 'December': 1, 'October': 1})\n",
      "Enter month: January\n",
      "There are 2 people born in January\n"
     ]
    }
   ],
   "source": [
    "counter(\"birthdays.json\")"
   ]
  },
  {
   "cell_type": "code",
   "execution_count": null,
   "metadata": {},
   "outputs": [],
   "source": []
  }
 ],
 "metadata": {
  "kernelspec": {
   "display_name": "Python 3",
   "language": "python",
   "name": "python3"
  },
  "language_info": {
   "codemirror_mode": {
    "name": "ipython",
    "version": 3
   },
   "file_extension": ".py",
   "mimetype": "text/x-python",
   "name": "python",
   "nbconvert_exporter": "python",
   "pygments_lexer": "ipython3",
   "version": "3.7.2"
  }
 },
 "nbformat": 4,
 "nbformat_minor": 2
}
