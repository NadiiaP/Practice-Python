{
 "cells": [
  {
   "cell_type": "markdown",
   "metadata": {},
   "source": [
    "In this exercise, we will finish building Hangman. In the game of Hangman, the player only has 6 incorrect guesses (head, body, 2 legs, and 2 arms) before they lose the game.\n",
    "\n",
    "In Part 1, we loaded a random word list and picked a word from it. In Part 2, we wrote the logic for guessing the letter and displaying that information to the user. In this exercise, we have to put it all together and add logic for handling guesses.\n",
    "\n",
    "Copy your code from Parts 1 and 2 into a new file as a starting point. Now add the following features:\n",
    "\n",
    "Only let the user guess 6 times, and tell the user how many guesses they have left.\n",
    "Keep track of the letters the user guessed. If the user guesses a letter they already guessed, don’t penalize them - let them guess again.\n",
    "Optional additions:\n",
    "\n",
    "When the player wins or loses, let them start a new game.\n",
    "Rather than telling the user \"You have 4 incorrect guesses left\", display some picture art for the Hangman. "
   ]
  },
  {
   "cell_type": "code",
   "execution_count": 1,
   "metadata": {},
   "outputs": [],
   "source": [
    "import random\n",
    "\n",
    "def  rw():\n",
    "    \n",
    "    with open('sowpods.txt', 'r') as open_file:\n",
    "        all_text = open_file.read()\n",
    "    words = all_text.split(\"\\n\")\n",
    "    i = random.randint(0,len(words)-1)\n",
    "    return words[i]"
   ]
  },
  {
   "cell_type": "code",
   "execution_count": 8,
   "metadata": {},
   "outputs": [],
   "source": [
    "def gw():\n",
    "    word = rw()\n",
    "    guess=\"_ \"*len(word)\n",
    "    l = guess.split()\n",
    "    k=0\n",
    "    while k<6:\n",
    "\n",
    "        letter = input(\"Guess the letter: \").upper()\n",
    "        if letter in word:\n",
    "            for i in range(len(word)):\n",
    "                if word[i]==letter:\n",
    "                    l[i]=letter\n",
    "            print(l)\n",
    "        else:\n",
    "            print(\"Incorrect!\")\n",
    "            k+=1\n",
    "            print(\"You have \" + str(6-k) + \" guesses left\")\n",
    "        if not (\"_\" in l) :\n",
    "            break\n",
    "    ask = input(\"Do you want to start a new game?\")\n",
    "    if ask == \"yes\":\n",
    "        gw()"
   ]
  },
  {
   "cell_type": "code",
   "execution_count": 9,
   "metadata": {},
   "outputs": [
    {
     "name": "stdout",
     "output_type": "stream",
     "text": [
      "Guess the letter: q\n",
      "Incorrect!\n",
      "You have 5 guesses left\n",
      "Guess the letter: w\n",
      "Incorrect!\n",
      "You have 4 guesses left\n",
      "Guess the letter: e\n",
      "Incorrect!\n",
      "You have 3 guesses left\n",
      "Guess the letter: r\n",
      "Incorrect!\n",
      "You have 2 guesses left\n",
      "Guess the letter: t\n",
      "Incorrect!\n",
      "You have 1 guesses left\n",
      "Guess the letter: y\n",
      "['_', '_', '_', '_', '_', '_', 'Y']\n",
      "Guess the letter: u\n",
      "Incorrect!\n",
      "You have 0 guesses left\n",
      "Do you want to start a new game?no\n"
     ]
    }
   ],
   "source": [
    "gw()"
   ]
  },
  {
   "cell_type": "code",
   "execution_count": null,
   "metadata": {
    "collapsed": true
   },
   "outputs": [],
   "source": []
  }
 ],
 "metadata": {
  "kernelspec": {
   "display_name": "Python 3",
   "language": "python",
   "name": "python3"
  },
  "language_info": {
   "codemirror_mode": {
    "name": "ipython",
    "version": 3
   },
   "file_extension": ".py",
   "mimetype": "text/x-python",
   "name": "python",
   "nbconvert_exporter": "python",
   "pygments_lexer": "ipython3",
   "version": "3.7.2"
  }
 },
 "nbformat": 4,
 "nbformat_minor": 2
}
