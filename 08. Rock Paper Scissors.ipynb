{
 "cells": [
  {
   "cell_type": "markdown",
   "metadata": {},
   "source": [
    "Make a two-player Rock-Paper-Scissors game. (Hint: Ask for player plays (using input), compare them, print out a message of congratulations to the winner, and ask if the players want to start a new game)\n",
    "\n",
    "Remember the rules:\n",
    "\n",
    "Rock beats scissors\n",
    "\n",
    "Scissors beats paper\n",
    "\n",
    "Paper beats rock"
   ]
  },
  {
   "cell_type": "code",
   "execution_count": null,
   "metadata": {},
   "outputs": [
    {
     "name": "stdout",
     "output_type": "stream",
     "text": [
      "Enter rock, paper, or scissors:rock\n",
      "Enter rock, paper, or scissors:paper\n",
      "Player 2 win\n",
      "Enter rock, paper, or scissors:rock\n",
      "Enter rock, paper, or scissors:paper\n",
      "Player 2 win\n",
      "Enter rock, paper, or scissors:rock\n",
      "Enter rock, paper, or scissors:rock\n",
      "Draw\n"
     ]
    }
   ],
   "source": [
    "while True:\n",
    "    command1 = input(\"Enter rock, paper, or scissors:\")\n",
    "    command2 = input(\"Enter rock, paper, or scissors:\")\n",
    "    if (command1 or command2) == \"quit\":\n",
    "        break\n",
    "    elif ((command1==\"rock\") and (command2 ==\"scissors\") or\n",
    "        (command1==\"scissors\") and (command2 ==\"paper\") or\n",
    "        (command1==\"paper\") and (command2 ==\"rock\")):\n",
    "            print (\"Player 1 win\")\n",
    "    elif ((command2==\"rock\") and (command1 ==\"scissors\") or\n",
    "        (command2==\"scissors\") and (command1 ==\"paper\") or\n",
    "        (command2==\"paper\") and (command1 ==\"rock\")):\n",
    "            print (\"Player 2 win\")\n",
    "    else:\n",
    "        print (\"It's a tie!\")"
   ]
  },
  {
   "cell_type": "code",
   "execution_count": null,
   "metadata": {},
   "outputs": [],
   "source": []
  }
 ],
 "metadata": {
  "kernelspec": {
   "display_name": "Python 3",
   "language": "python",
   "name": "python3"
  },
  "language_info": {
   "codemirror_mode": {
    "name": "ipython",
    "version": 3
   },
   "file_extension": ".py",
   "mimetype": "text/x-python",
   "name": "python",
   "nbconvert_exporter": "python",
   "pygments_lexer": "ipython3",
   "version": "3.7.2"
  }
 },
 "nbformat": 4,
 "nbformat_minor": 2
}
