{
 "cells": [
  {
   "cell_type": "markdown",
   "metadata": {},
   "source": [
    "Let’s continue building Hangman. In the game of Hangman, a clue word is given by the program that the player has to guess, letter by letter. The player guesses one letter at a time until the entire word has been guessed. (In the actual game, the player can only guess 6 letters incorrectly before losing).\n",
    "\n",
    "Let’s say the word the player has to guess is “EVAPORATE”. For this exercise, write the logic that asks a player to guess a letter and displays letters in the clue word that were guessed correctly. For now, let the player guess an infinite number of times until they get the entire word. As a bonus, keep track of the letters the player guessed and display a different message if the player tries to guess that letter again. Remember to stop the game when all the letters have been guessed correctly! Don’t worry about choosing a word randomly or keeping track of the number of guesses the player has remaining - we will deal with those in a future exercise.\n",
    "\n",
    "An example interaction can look like this:\n",
    "\n",
    "Welcome to Hangman!\n",
    "_ _ _ _ _ _ _ _ _\n",
    "Guess your letter: S\n",
    "\n",
    "Incorrect!\n",
    "\n",
    "Guess your letter: E\n",
    "\n",
    "E _ _ _ _ _ _ _ E\n",
    "\n",
    "...\n",
    "\n",
    "And so on, until the player gets the word."
   ]
  },
  {
   "cell_type": "code",
   "execution_count": 1,
   "metadata": {},
   "outputs": [],
   "source": [
    "word = \"EVAPORATE\""
   ]
  },
  {
   "cell_type": "code",
   "execution_count": 6,
   "metadata": {},
   "outputs": [],
   "source": [
    "def gw(word):\n",
    "    \n",
    "    guess=\"_ \"*len(word)\n",
    "    l = guess.split()\n",
    "    while True:\n",
    "\n",
    "        letter = input(\"Guess the letter: \").upper()\n",
    "        if letter in word:\n",
    "            for i in range(len(word)):\n",
    "                if word[i]==letter:\n",
    "                    l[i]=letter\n",
    "            print(l)\n",
    "        else:\n",
    "            print(\"Incorrect!\")\n",
    "        if (letter == \"STOP\") or (not (\"_\" in l)) :\n",
    "            break"
   ]
  },
  {
   "cell_type": "code",
   "execution_count": 7,
   "metadata": {},
   "outputs": [
    {
     "name": "stdout",
     "output_type": "stream",
     "text": [
      "Guess the letter: e\n",
      "['E', '_', '_', '_', '_', '_', '_', '_', 'E']\n",
      "Guess the letter: v\n",
      "['E', 'V', '_', '_', '_', '_', '_', '_', 'E']\n",
      "Guess the letter: a\n",
      "['E', 'V', 'A', '_', '_', '_', 'A', '_', 'E']\n",
      "Guess the letter: p\n",
      "['E', 'V', 'A', 'P', '_', '_', 'A', '_', 'E']\n",
      "Guess the letter: o\n",
      "['E', 'V', 'A', 'P', 'O', '_', 'A', '_', 'E']\n",
      "Guess the letter: r\n",
      "['E', 'V', 'A', 'P', 'O', 'R', 'A', '_', 'E']\n",
      "Guess the letter: a\n",
      "['E', 'V', 'A', 'P', 'O', 'R', 'A', '_', 'E']\n",
      "Guess the letter: t\n",
      "['E', 'V', 'A', 'P', 'O', 'R', 'A', 'T', 'E']\n"
     ]
    }
   ],
   "source": [
    "gw(word)"
   ]
  },
  {
   "cell_type": "code",
   "execution_count": null,
   "metadata": {},
   "outputs": [],
   "source": []
  }
 ],
 "metadata": {
  "kernelspec": {
   "display_name": "Python 3",
   "language": "python",
   "name": "python3"
  },
  "language_info": {
   "codemirror_mode": {
    "name": "ipython",
    "version": 3
   },
   "file_extension": ".py",
   "mimetype": "text/x-python",
   "name": "python",
   "nbconvert_exporter": "python",
   "pygments_lexer": "ipython3",
   "version": "3.7.2"
  }
 },
 "nbformat": 4,
 "nbformat_minor": 2
}
