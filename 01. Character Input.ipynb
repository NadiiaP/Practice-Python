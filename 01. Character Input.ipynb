{
 "cells": [
  {
   "cell_type": "markdown",
   "metadata": {},
   "source": [
    "Create a program that asks the user to enter their name and their age. \n",
    "Print out a message addressed to them that tells them the year that they will turn 100 years old.\n",
    "https://www.practicepython.org/exercise/2014/01/29/01-character-input.html"
   ]
  },
  {
   "cell_type": "code",
   "execution_count": 3,
   "metadata": {},
   "outputs": [
    {
     "name": "stdout",
     "output_type": "stream",
     "text": [
      "Give me your name:Nadiia\n",
      "Give me your age:29\n",
      "You will be 100 in:2090\n"
     ]
    }
   ],
   "source": [
    "name = input(\"Give me your name:\")\n",
    "age = int(input(\"Give me your age:\"))\n",
    "print(\"You will be 100 in:\" + str(2019-age+100))"
   ]
  }
 ],
 "metadata": {
  "kernelspec": {
   "display_name": "Python 3",
   "language": "python",
   "name": "python3"
  },
  "language_info": {
   "codemirror_mode": {
    "name": "ipython",
    "version": 3
   },
   "file_extension": ".py",
   "mimetype": "text/x-python",
   "name": "python",
   "nbconvert_exporter": "python",
   "pygments_lexer": "ipython3",
   "version": "3.7.2"
  }
 },
 "nbformat": 4,
 "nbformat_minor": 2
}
