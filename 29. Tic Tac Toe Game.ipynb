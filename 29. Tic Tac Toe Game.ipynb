{
 "cells": [
  {
   "cell_type": "markdown",
   "metadata": {},
   "source": [
    "In 3 previous exercises, we built up a few components needed to build a Tic Tac Toe game in Python:\n",
    "\n",
    "Draw the Tic Tac Toe game board\n",
    "Checking whether a game board has a winner\n",
    "Handle a player move from user input\n",
    "The next step is to put all these three components together to make a two-player Tic Tac Toe game! Your challenge in this exercise is to use the functions from those previous exercises all together in the same program to make a two-player game that you can play with a friend. There are a lot of choices you will have to make when completing this exercise, so you can go as far or as little as you want with it.\n",
    "\n",
    "Here are a few things to keep in mind:\n",
    "\n",
    "You should keep track of who won - if there is a winner, show a congratulatory message on the screen.\n",
    "If there are no more moves left, don’t ask for the next player’s move!\n",
    "As a bonus, you can ask the players if they want to play again and keep a running tally of who won more - Player 1 or Player 2."
   ]
  },
  {
   "cell_type": "code",
   "execution_count": 2,
   "metadata": {},
   "outputs": [],
   "source": [
    "def board(game):\n",
    "    for i in range(3):\n",
    "        print(3*\" ---\")\n",
    "        print(\"| \" + str(game[i][0]) + \" | \" + str(game[i][1]) + \" | \" + str(game[i][2]) + \" | \" )\n",
    "    print(3*\" ---\")"
   ]
  },
  {
   "cell_type": "code",
   "execution_count": 7,
   "metadata": {},
   "outputs": [],
   "source": [
    "def winner(game):\n",
    "    \n",
    "    for i in range(3):\n",
    "        if game[i][0] == game[i][1]== game[i][2]!=0:\n",
    "            return \"Winner is: \" + str(game[i][0])\n",
    "    for j in range(3):\n",
    "        if game[0][j] == game[1][j] == game[2][j]!=0:\n",
    "            return \"Winner is: \" + str(game[0][j])\n",
    "    if game[0][0]==game[1][1]==game[2][2]!=0:\n",
    "        return \"Winner is: \" + str(game[0][0])\n",
    "    elif game[2][0]==game[1][1]==game[0][2]!=0:\n",
    "        return \"Winner is: \" + str(game[2][0])"
   ]
  },
  {
   "cell_type": "code",
   "execution_count": 14,
   "metadata": {},
   "outputs": [],
   "source": [
    "def Tic_Tac_Toe():\n",
    "    \n",
    "    game = [[0, 0, 0], [0, 0, 0], [0, 0, 0]]\n",
    "\n",
    "    while True:\n",
    "        result=[]\n",
    "        for i in game:\n",
    "            for j in i:\n",
    "                result.append(j==0)\n",
    "        if (not any(result)) or winner(game):\n",
    "            break\n",
    "        else:\n",
    "            while True:\n",
    "                result=[]\n",
    "                for i in game:\n",
    "                    for j in i:\n",
    "                        result.append(j==0)\n",
    "                if (not any(result)) or winner(game):\n",
    "                    break\n",
    "                else:\n",
    "                    board(game)\n",
    "                    move_X = input(\"Your move X:\").split(\",\")\n",
    "                    if game[int(move_X[0])][int(move_X[1])]==0:\n",
    "                        game[int(move_X[0])][int(move_X[1])] = \"X\"\n",
    "                        print(winner(game))\n",
    "                        break\n",
    "                    else:\n",
    "                        print(\"You can't move here!\")\n",
    "\n",
    "            while True:\n",
    "                result=[]\n",
    "                for i in game:\n",
    "                    for j in i:\n",
    "                        result.append(j==0)\n",
    "                if (not any(result)) or winner(game):\n",
    "                    break\n",
    "                else:\n",
    "                    board(game)\n",
    "                    move_O = input(\"Your move O:\").split(\",\")\n",
    "                    if game[int(move_O[0])][int(move_O[1])]==0:\n",
    "                        game[int(move_O[0])][int(move_O[1])] = \"O\"\n",
    "                        print(winner(game))\n",
    "                        break\n",
    "                    else:\n",
    "                        print(\"You can't move here!\")\n",
    "    return board(game)"
   ]
  },
  {
   "cell_type": "code",
   "execution_count": 17,
   "metadata": {},
   "outputs": [
    {
     "name": "stdout",
     "output_type": "stream",
     "text": [
      " --- --- ---\n",
      "| 0 | 0 | 0 | \n",
      " --- --- ---\n",
      "| 0 | 0 | 0 | \n",
      " --- --- ---\n",
      "| 0 | 0 | 0 | \n",
      " --- --- ---\n",
      "Your move X:0,0\n",
      "None\n",
      " --- --- ---\n",
      "| X | 0 | 0 | \n",
      " --- --- ---\n",
      "| 0 | 0 | 0 | \n",
      " --- --- ---\n",
      "| 0 | 0 | 0 | \n",
      " --- --- ---\n",
      "Your move O:0,1\n",
      "None\n",
      " --- --- ---\n",
      "| X | O | 0 | \n",
      " --- --- ---\n",
      "| 0 | 0 | 0 | \n",
      " --- --- ---\n",
      "| 0 | 0 | 0 | \n",
      " --- --- ---\n",
      "Your move X:1,0\n",
      "None\n",
      " --- --- ---\n",
      "| X | O | 0 | \n",
      " --- --- ---\n",
      "| X | 0 | 0 | \n",
      " --- --- ---\n",
      "| 0 | 0 | 0 | \n",
      " --- --- ---\n",
      "Your move O:1,0\n",
      "You can't move here!\n",
      " --- --- ---\n",
      "| X | O | 0 | \n",
      " --- --- ---\n",
      "| X | 0 | 0 | \n",
      " --- --- ---\n",
      "| 0 | 0 | 0 | \n",
      " --- --- ---\n",
      "Your move O:1,1\n",
      "None\n",
      " --- --- ---\n",
      "| X | O | 0 | \n",
      " --- --- ---\n",
      "| X | O | 0 | \n",
      " --- --- ---\n",
      "| 0 | 0 | 0 | \n",
      " --- --- ---\n",
      "Your move X:2,0\n",
      "Winner is: X\n",
      " --- --- ---\n",
      "| X | O | 0 | \n",
      " --- --- ---\n",
      "| X | O | 0 | \n",
      " --- --- ---\n",
      "| X | 0 | 0 | \n",
      " --- --- ---\n"
     ]
    }
   ],
   "source": [
    "Tic_Tac_Toe()"
   ]
  },
  {
   "cell_type": "code",
   "execution_count": null,
   "metadata": {},
   "outputs": [],
   "source": [
    "if __name__ == \"__main__\":\n",
    "    Tic_Tac_Toe()"
   ]
  }
 ],
 "metadata": {
  "kernelspec": {
   "display_name": "Python 3",
   "language": "python",
   "name": "python3"
  },
  "language_info": {
   "codemirror_mode": {
    "name": "ipython",
    "version": 3
   },
   "file_extension": ".py",
   "mimetype": "text/x-python",
   "name": "python",
   "nbconvert_exporter": "python",
   "pygments_lexer": "ipython3",
   "version": "3.7.2"
  }
 },
 "nbformat": 4,
 "nbformat_minor": 2
}
