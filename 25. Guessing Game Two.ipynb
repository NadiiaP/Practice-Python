{
 "cells": [
  {
   "cell_type": "markdown",
   "metadata": {},
   "source": [
    " You, the user, will have in your head a number between 0 and 100. The program will guess a number, and you, the user, will say whether it is too high, too low, or your number.\n",
    "\n",
    "At the end of this exchange, your program should print out how many guesses it took to get your number."
   ]
  },
  {
   "cell_type": "code",
   "execution_count": null,
   "metadata": {},
   "outputs": [
    {
     "name": "stdout",
     "output_type": "stream",
     "text": [
      "50\n",
      "Too high or too low?Too low\n",
      "75\n",
      "Too high or too low?Too high\n",
      "62\n",
      "Too high or too low?Too high\n",
      "56\n",
      "Too high or too low?Too low\n",
      "59\n",
      "Too high or too low?Too low\n",
      "61\n",
      "Too high or too low?Too high\n",
      "60\n"
     ]
    }
   ],
   "source": [
    "n=50\n",
    "print(n)\n",
    "h=100\n",
    "l=0\n",
    "while True:\n",
    "    \n",
    "    answer = input(\"Too high or too low?\")\n",
    "    if answer==\"Too low\":\n",
    "        l=n\n",
    "        n = n + round((h-n)/2)\n",
    "    if answer==\"Too high\":\n",
    "        h=n\n",
    "        n= l + round((n-l)/2)\n",
    "    print(n)\n",
    "    if answer == \"Stop\":\n",
    "        break"
   ]
  },
  {
   "cell_type": "code",
   "execution_count": null,
   "metadata": {},
   "outputs": [],
   "source": []
  }
 ],
 "metadata": {
  "kernelspec": {
   "display_name": "Python 3",
   "language": "python",
   "name": "python3"
  },
  "language_info": {
   "codemirror_mode": {
    "name": "ipython",
    "version": 3
   },
   "file_extension": ".py",
   "mimetype": "text/x-python",
   "name": "python",
   "nbconvert_exporter": "python",
   "pygments_lexer": "ipython3",
   "version": "3.7.2"
  }
 },
 "nbformat": 4,
 "nbformat_minor": 2
}
