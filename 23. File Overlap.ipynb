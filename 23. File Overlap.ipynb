{
 "cells": [
  {
   "cell_type": "code",
   "execution_count": 1,
   "metadata": {},
   "outputs": [],
   "source": [
    "with open('primenumbers.txt', 'r') as open_file:\n",
    "    text_p = open_file.read()"
   ]
  },
  {
   "cell_type": "code",
   "execution_count": 4,
   "metadata": {},
   "outputs": [],
   "source": [
    "primes = text_p.split(\"\\n\")"
   ]
  },
  {
   "cell_type": "code",
   "execution_count": 5,
   "metadata": {},
   "outputs": [],
   "source": [
    "with open('happynumbers.txt', 'r') as open_file:\n",
    "    text_h = open_file.read()"
   ]
  },
  {
   "cell_type": "code",
   "execution_count": 6,
   "metadata": {},
   "outputs": [],
   "source": [
    "happy = text_h.split(\"\\n\")"
   ]
  },
  {
   "cell_type": "code",
   "execution_count": 8,
   "metadata": {},
   "outputs": [],
   "source": [
    "def overlap(primes, happy):\n",
    "    z = []\n",
    "    for i in primes:\n",
    "        for j in happy:\n",
    "            if i==j:\n",
    "                z.append(i)\n",
    "    return z"
   ]
  },
  {
   "cell_type": "code",
   "execution_count": 9,
   "metadata": {},
   "outputs": [
    {
     "data": {
      "text/plain": [
       "['7',\n",
       " '13',\n",
       " '19',\n",
       " '23',\n",
       " '31',\n",
       " '79',\n",
       " '97',\n",
       " '103',\n",
       " '109',\n",
       " '139',\n",
       " '167',\n",
       " '193',\n",
       " '239',\n",
       " '263',\n",
       " '293',\n",
       " '313',\n",
       " '331',\n",
       " '367',\n",
       " '379',\n",
       " '383',\n",
       " '397',\n",
       " '487',\n",
       " '563',\n",
       " '617',\n",
       " '653',\n",
       " '673',\n",
       " '683',\n",
       " '709',\n",
       " '739',\n",
       " '761',\n",
       " '881',\n",
       " '907',\n",
       " '937']"
      ]
     },
     "execution_count": 9,
     "metadata": {},
     "output_type": "execute_result"
    }
   ],
   "source": [
    "overlap(primes, happy)"
   ]
  },
  {
   "cell_type": "code",
   "execution_count": null,
   "metadata": {},
   "outputs": [],
   "source": []
  }
 ],
 "metadata": {
  "kernelspec": {
   "display_name": "Python 3",
   "language": "python",
   "name": "python3"
  },
  "language_info": {
   "codemirror_mode": {
    "name": "ipython",
    "version": 3
   },
   "file_extension": ".py",
   "mimetype": "text/x-python",
   "name": "python",
   "nbconvert_exporter": "python",
   "pygments_lexer": "ipython3",
   "version": "3.7.2"
  }
 },
 "nbformat": 4,
 "nbformat_minor": 2
}
