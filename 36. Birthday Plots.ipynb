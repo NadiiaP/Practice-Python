{
 "cells": [
  {
   "cell_type": "markdown",
   "metadata": {},
   "source": [
    "In this exercise, use the bokeh Python library to plot a histogram of which months the scientists have birthdays in! Because it would take a long time for you to input the months of various scientists, you can use my scientist birthday JSON file. Just parse out the months (if you don’t know how, I suggest looking at the previous exercise or its solution) and draw your histogram."
   ]
  },
  {
   "cell_type": "code",
   "execution_count": 6,
   "metadata": {},
   "outputs": [],
   "source": [
    "import json\n",
    "from collections import Counter\n",
    "\n",
    "def counter(file):\n",
    "    with open(file, \"r\") as f:\n",
    "        birthdays = json.load(f)\n",
    "    l = list(birthdays.values())\n",
    "    m = [\"\".join(list(i)[:2]) for i in l]\n",
    "    d = {\"01\": \"January\", \"02\": \"February\", \"03\": \"March\", \"04\": \"April\", \"05\": \"May\", \"06\": \"June\", \n",
    "     \"07\": \"July\", \"08\": \"August\", \"09\": \"September\", \"10\": \"October\", \"11\": \"November\", \"12\": \"December\"}\n",
    "    months = [d[j] for j in m]\n",
    "    c = Counter(months)\n",
    "    return c"
   ]
  },
  {
   "cell_type": "code",
   "execution_count": 7,
   "metadata": {},
   "outputs": [
    {
     "data": {
      "text/plain": [
       "Counter({'March': 1, 'January': 2, 'December': 1, 'October': 1})"
      ]
     },
     "execution_count": 7,
     "metadata": {},
     "output_type": "execute_result"
    }
   ],
   "source": [
    "counter(\"birthdays.json\")"
   ]
  },
  {
   "cell_type": "code",
   "execution_count": 10,
   "metadata": {},
   "outputs": [
    {
     "data": {
      "text/plain": [
       "[1, 2, 1, 1]"
      ]
     },
     "execution_count": 10,
     "metadata": {},
     "output_type": "execute_result"
    }
   ],
   "source": [
    "c = counter(\"birthdays.json\")\n",
    "x = list(c.keys())\n",
    "y = list(c.values())"
   ]
  },
  {
   "cell_type": "code",
   "execution_count": 13,
   "metadata": {},
   "outputs": [],
   "source": [
    "from bokeh.plotting import figure, show, output_file\n",
    "\n",
    "output_file(\"plot.html\")\n",
    "\n",
    "c = counter(\"birthdays.json\")\n",
    "x_categories = [\"January\",\"February\", \"March\", \"April\", \"May\", \"June\", \n",
    "     \"July\", \"August\", \"September\", \"October\", \"November\", \"December\"]\n",
    "x = list(c.keys())\n",
    "y = list(c.values())\n",
    "\n",
    "# create a figure\n",
    "p = figure(x_range=x_categories)\n",
    "\n",
    "# create a histogram\n",
    "p.vbar(x=x, top=y, width=0.5)\n",
    "\n",
    "# render (show) the plot\n",
    "show(p)"
   ]
  },
  {
   "cell_type": "code",
   "execution_count": null,
   "metadata": {},
   "outputs": [],
   "source": []
  }
 ],
 "metadata": {
  "kernelspec": {
   "display_name": "Python 3",
   "language": "python",
   "name": "python3"
  },
  "language_info": {
   "codemirror_mode": {
    "name": "ipython",
    "version": 3
   },
   "file_extension": ".py",
   "mimetype": "text/x-python",
   "name": "python",
   "nbconvert_exporter": "python",
   "pygments_lexer": "ipython3",
   "version": "3.7.2"
  }
 },
 "nbformat": 4,
 "nbformat_minor": 2
}
