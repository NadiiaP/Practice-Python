{
 "cells": [
  {
   "cell_type": "markdown",
   "metadata": {},
   "source": [
    "For this exercise, we will keep track of when our friend’s birthdays are, and be able to find that information based on their name. Create a dictionary (in your file) of names and birthdays. When you run your program it should ask the user to enter a name, and return the birthday of that person back to them. The interaction should look something like this:\n",
    "\n",
    "Welcome to the birthday dictionary. We know the birthdays of:\n",
    "\n",
    "Albert Einstein\n",
    "Benjamin Franklin\n",
    "Ada Lovelace\n",
    "\n",
    "Who's birthday do you want to look up?\n",
    "\n",
    "Benjamin Franklin\n",
    "\n",
    "Benjamin Franklin's birthday is 01/17/1706."
   ]
  },
  {
   "cell_type": "code",
   "execution_count": 21,
   "metadata": {},
   "outputs": [],
   "source": [
    "dictionary = {\"Albert Einstein\": \"03/14/1879\", \"Benjamin Franklin\" : \"01/17/1706\", \"Ada Lovelace\": \"12/10/1815\"}"
   ]
  },
  {
   "cell_type": "code",
   "execution_count": 24,
   "metadata": {},
   "outputs": [],
   "source": [
    "def birthdays(dictionary):\n",
    "    \n",
    "    print(\"Welcome to the birthday dictionary. We know the birthdays of: \" + \", \".join(list(dictionary.keys())))\n",
    "    name = input(\"Who's birthday do you want to look up? \")\n",
    "    print(\"{}'s birthday is {}\".format(name, dictionary[name]))"
   ]
  },
  {
   "cell_type": "code",
   "execution_count": 25,
   "metadata": {},
   "outputs": [
    {
     "name": "stdout",
     "output_type": "stream",
     "text": [
      "Welcome to the birthday dictionary. We know the birthdays of: Albert Einstein, Benjamin Franklin, Ada Lovelace\n",
      "Who's birthday do you want to look up? Albert Einstein\n",
      "Albert Einstein's birthday is 03/14/1879\n"
     ]
    }
   ],
   "source": [
    "birthdays(dictionary)"
   ]
  },
  {
   "cell_type": "code",
   "execution_count": null,
   "metadata": {},
   "outputs": [],
   "source": []
  }
 ],
 "metadata": {
  "kernelspec": {
   "display_name": "Python 3",
   "language": "python",
   "name": "python3"
  },
  "language_info": {
   "codemirror_mode": {
    "name": "ipython",
    "version": 3
   },
   "file_extension": ".py",
   "mimetype": "text/x-python",
   "name": "python",
   "nbconvert_exporter": "python",
   "pygments_lexer": "ipython3",
   "version": "3.7.2"
  }
 },
 "nbformat": 4,
 "nbformat_minor": 2
}
