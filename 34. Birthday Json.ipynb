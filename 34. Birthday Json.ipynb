{
 "cells": [
  {
   "cell_type": "markdown",
   "metadata": {},
   "source": [
    "In this exercise, modify your program from Part 1 to load the birthday dictionary from a JSON file on disk, rather than having the dictionary defined in the program.\n",
    "\n",
    "Bonus: Ask the user for another scientist’s name and birthday to add to the dictionary, and update the JSON file you have on disk with the scientist’s name. If you run the program multiple times and keep adding new names, your JSON file should keep getting bigger and bigger."
   ]
  },
  {
   "cell_type": "code",
   "execution_count": 15,
   "metadata": {},
   "outputs": [],
   "source": [
    "dictionary = {\"Albert Einstein\": \"03/14/1879\", \"Benjamin Franklin\" : \"01/17/1706\", \"Ada Lovelace\": \"12/10/1815\"}"
   ]
  },
  {
   "cell_type": "code",
   "execution_count": 16,
   "metadata": {},
   "outputs": [
    {
     "data": {
      "text/plain": [
       "{'Albert Einstein': '03/14/1879',\n",
       " 'Benjamin Franklin': '01/17/1706',\n",
       " 'Ada Lovelace': '12/10/1815'}"
      ]
     },
     "execution_count": 16,
     "metadata": {},
     "output_type": "execute_result"
    }
   ],
   "source": [
    "dictionary"
   ]
  },
  {
   "cell_type": "code",
   "execution_count": 17,
   "metadata": {},
   "outputs": [],
   "source": [
    "import json\n",
    "\n",
    "with open(\"birthdays.json\", \"w\") as f:\n",
    "    json.dump(dictionary, f)"
   ]
  },
  {
   "cell_type": "code",
   "execution_count": 26,
   "metadata": {},
   "outputs": [],
   "source": [
    "with open(\"birthdays.json\", \"r\") as f:\n",
    "    birthdays = json.load(f)"
   ]
  },
  {
   "cell_type": "code",
   "execution_count": 27,
   "metadata": {},
   "outputs": [
    {
     "data": {
      "text/plain": [
       "{'Albert Einstein': '03/14/1879',\n",
       " 'Benjamin Franklin': '01/17/1706',\n",
       " 'Ada Lovelace': '12/10/1815'}"
      ]
     },
     "execution_count": 27,
     "metadata": {},
     "output_type": "execute_result"
    }
   ],
   "source": [
    "birthdays"
   ]
  },
  {
   "cell_type": "code",
   "execution_count": 23,
   "metadata": {},
   "outputs": [],
   "source": [
    "def birthday(file):\n",
    "    with open(file, \"r\") as f:\n",
    "        birthdays = json.load(f)\n",
    "    print(\"Welcome to the birthday dictionary. We know the birthdays of: \" + \", \".join(list(birthdays.keys())))\n",
    "    name = input(\"Who's birthday do you want to look up? \")\n",
    "    print(\"{}'s birthday is {}\".format(name, birthdays[name]))"
   ]
  },
  {
   "cell_type": "code",
   "execution_count": 24,
   "metadata": {},
   "outputs": [
    {
     "name": "stdout",
     "output_type": "stream",
     "text": [
      "Welcome to the birthday dictionary. We know the birthdays of: Albert Einstein, Benjamin Franklin, Ada Lovelace\n",
      "Who's birthday do you want to look up? Albert Einstein\n",
      "Albert Einstein's birthday is 03/14/1879\n"
     ]
    }
   ],
   "source": [
    "birthday(\"birthdays.json\")"
   ]
  },
  {
   "cell_type": "code",
   "execution_count": 41,
   "metadata": {},
   "outputs": [],
   "source": [
    "def add_entry(file):\n",
    "    \n",
    "    with open(file, \"r\") as f:\n",
    "        birthdays = json.load(f)\n",
    "    name = input(\"Enter name: \")\n",
    "    b_day = input(\"Enter birthday: \")\n",
    "    if name not in birthdays:\n",
    "        birthdays[name] = b_day\n",
    "    with open(\"birthdays.json\", \"w\") as f:\n",
    "        json.dump(birthdays, f)\n",
    "    return birthdays"
   ]
  },
  {
   "cell_type": "code",
   "execution_count": 44,
   "metadata": {},
   "outputs": [
    {
     "name": "stdout",
     "output_type": "stream",
     "text": [
      "Enter name: Lev Landau\n",
      "Enter birthday: 01/22/1908\n"
     ]
    },
    {
     "data": {
      "text/plain": [
       "{'Albert Einstein': '03/14/1879',\n",
       " 'Benjamin Franklin': '01/17/1706',\n",
       " 'Ada Lovelace': '12/10/1815',\n",
       " 'Friedrich Nietzsche': '10/15/1844',\n",
       " 'Lev Landau': '01/22/1908'}"
      ]
     },
     "execution_count": 44,
     "metadata": {},
     "output_type": "execute_result"
    }
   ],
   "source": [
    "add_entry(\"birthdays.json\")"
   ]
  },
  {
   "cell_type": "code",
   "execution_count": 45,
   "metadata": {},
   "outputs": [
    {
     "data": {
      "text/plain": [
       "{'Albert Einstein': '03/14/1879',\n",
       " 'Benjamin Franklin': '01/17/1706',\n",
       " 'Ada Lovelace': '12/10/1815',\n",
       " 'Friedrich Nietzsche': '10/15/1844',\n",
       " 'Lev Landau': '01/22/1908'}"
      ]
     },
     "execution_count": 45,
     "metadata": {},
     "output_type": "execute_result"
    }
   ],
   "source": [
    "with open(\"birthdays.json\", \"r\") as f:\n",
    "    birthdays = json.load(f)\n",
    "birthdays"
   ]
  },
  {
   "cell_type": "code",
   "execution_count": null,
   "metadata": {},
   "outputs": [],
   "source": []
  }
 ],
 "metadata": {
  "kernelspec": {
   "display_name": "Python 3",
   "language": "python",
   "name": "python3"
  },
  "language_info": {
   "codemirror_mode": {
    "name": "ipython",
    "version": 3
   },
   "file_extension": ".py",
   "mimetype": "text/x-python",
   "name": "python",
   "nbconvert_exporter": "python",
   "pygments_lexer": "ipython3",
   "version": "3.7.2"
  }
 },
 "nbformat": 4,
 "nbformat_minor": 2
}
